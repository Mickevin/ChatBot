{
 "cells": [
  {
   "cell_type": "code",
   "execution_count": 27,
   "id": "a708d8db",
   "metadata": {},
   "outputs": [],
   "source": [
    "import os\n",
    "import time\n",
    "\n",
    "from azure.cognitiveservices.knowledge.qnamaker.authoring import QnAMakerClient\n",
    "from azure.cognitiveservices.knowledge.qnamaker.runtime import QnAMakerRuntimeClient\n",
    "from azure.cognitiveservices.knowledge.qnamaker.authoring.models import QnADTO, MetadataDTO, CreateKbDTO, OperationStateType, UpdateKbOperationDTO, UpdateKbOperationDTOAdd, EndpointKeysDTO, QnADTOContext, PromptDTO\n",
    "from azure.cognitiveservices.knowledge.qnamaker.runtime.models import QueryDTO\n",
    "from msrest.authentication import CognitiveServicesCredentials"
   ]
  },
  {
   "cell_type": "code",
   "execution_count": 2,
   "id": "44e867de",
   "metadata": {},
   "outputs": [],
   "source": [
    "subscription_key = 'cbb4bcaa0a334e02a1261cf18aa1ad18'\n",
    "\n",
    "authoring_endpoint = 'https://qna0.cognitiveservices.azure.com/'\n",
    "\n",
    "runtime_endpoint = 'https://qna0.azurewebsites.net'"
   ]
  },
  {
   "cell_type": "code",
   "execution_count": 3,
   "id": "8d62f5bb",
   "metadata": {},
   "outputs": [],
   "source": [
    "client = QnAMakerClient(endpoint=authoring_endpoint, credentials=CognitiveServicesCredentials(subscription_key))"
   ]
  },
  {
   "cell_type": "markdown",
   "id": "5faf9d60",
   "metadata": {},
   "source": [
    "# Obtenir le statut d'une opération\n"
   ]
  },
  {
   "cell_type": "code",
   "execution_count": 9,
   "id": "a1af5056",
   "metadata": {},
   "outputs": [],
   "source": [
    "def _monitor_operation(client, operation):\n",
    "\n",
    "    for i in range(20):\n",
    "        if operation.operation_state in [OperationStateType.not_started, OperationStateType.running]:\n",
    "            print(\"Waiting for operation: {} to complete.\".format(operation.operation_id))\n",
    "            time.sleep(5)\n",
    "            operation = client.operations.get_details(operation_id=operation.operation_id)\n",
    "        else:\n",
    "            break\n",
    "    if operation.operation_state != OperationStateType.succeeded:\n",
    "        raise Exception(\"Operation {} failed to complete.\".format(operation.operation_id))\n",
    "\n",
    "    return operation"
   ]
  },
  {
   "cell_type": "markdown",
   "id": "42696ab8",
   "metadata": {},
   "source": [
    "# Créer une base de connaissances"
   ]
  },
  {
   "cell_type": "code",
   "execution_count": 12,
   "id": "2ed118e4",
   "metadata": {},
   "outputs": [],
   "source": [
    "def create_kb(client):\n",
    "    print (\"Creating knowledge base...\")\n",
    "\n",
    "    qna1 = QnADTO(\n",
    "        answer=\"Yes, You can use our [REST APIs](https://docs.microsoft.com/rest/api/cognitiveservices/qnamaker/knowledgebase) to manage your knowledge base.\",\n",
    "        questions=[\"How do I manage my knowledgebase?\"],\n",
    "        metadata=[\n",
    "            MetadataDTO(name=\"Category\", value=\"api\"),\n",
    "            MetadataDTO(name=\"Language\", value=\"REST\"),\n",
    "        ]\n",
    "    )\n",
    "\n",
    "    qna2 = QnADTO(\n",
    "        answer=\"Yes, You can use our [Python SDK](https://pypi.org/project/azure-cognitiveservices-knowledge-qnamaker/) with the [Python Reference Docs](https://docs.microsoft.com/python/api/azure-cognitiveservices-knowledge-qnamaker/azure.cognitiveservices.knowledge.qnamaker?view=azure-python) to manage your knowledge base.\",\n",
    "        questions=[\"Can I program with Python?\"],\n",
    "        metadata=[\n",
    "            MetadataDTO(name=\"Category\", value=\"api\"),\n",
    "            MetadataDTO(name=\"Language\", value=\"Python\"),\n",
    "        ]\n",
    "    )\n",
    "\n",
    "    urls = []\n",
    "\n",
    "    create_kb_dto = CreateKbDTO(\n",
    "        name=\"QnA Maker Python SDK Quickstart\",\n",
    "        qna_list=[\n",
    "            qna1,\n",
    "            qna2\n",
    "        ],\n",
    "        urls=urls,\n",
    "        files=[],\n",
    "        enable_hierarchical_extraction=True,\n",
    "        default_answer_used_for_extraction=\"No answer found.\",\n",
    "        language=\"English\"\n",
    "    )\n",
    "    create_op = client.knowledgebase.create(create_kb_payload=create_kb_dto)\n",
    "\n",
    "    create_op_monitor = _monitor_operation(client=client, operation=create_op)\n",
    "\n",
    "    # Get knowledge base ID from resourceLocation HTTP header\n",
    "    knowledge_base_ID = create_op_monitor.resource_location.replace(\"/knowledgebases/\", \"\")\n",
    "    print(\"Created KB with ID: {}\".format(knowledge_base_ID))\n",
    "\n",
    "    return knowledge_base_ID"
   ]
  },
  {
   "cell_type": "code",
   "execution_count": 13,
   "id": "2f3394ea",
   "metadata": {},
   "outputs": [
    {
     "name": "stdout",
     "output_type": "stream",
     "text": [
      "Creating knowledge base...\n",
      "Waiting for operation: 90899417-ee8b-4a50-b21d-0821872ac7af to complete.\n",
      "Waiting for operation: 90899417-ee8b-4a50-b21d-0821872ac7af to complete.\n",
      "Created KB with ID: dab96190-f39d-4cde-81d7-409db4611a27\n"
     ]
    },
    {
     "data": {
      "text/plain": [
       "'dab96190-f39d-4cde-81d7-409db4611a27'"
      ]
     },
     "execution_count": 13,
     "metadata": {},
     "output_type": "execute_result"
    }
   ],
   "source": [
    "create_kb(client)"
   ]
  },
  {
   "cell_type": "markdown",
   "id": "29cb0608",
   "metadata": {},
   "source": [
    "# Mettre à jour une base de connaissances"
   ]
  },
  {
   "cell_type": "code",
   "execution_count": 14,
   "id": "8fa0f348",
   "metadata": {},
   "outputs": [],
   "source": [
    "def update_kb(client, kb_id):\n",
    "    print (\"Updating knowledge base...\")\n",
    "\n",
    "    qna3 = QnADTO(\n",
    "        answer=\"goodbye\",\n",
    "        questions=[\n",
    "            \"bye\",\n",
    "            \"end\",\n",
    "            \"stop\",\n",
    "            \"quit\",\n",
    "            \"done\"\n",
    "            ],\n",
    "        metadata=[\n",
    "            MetadataDTO(name=\"Category\", value=\"Chitchat\"),\n",
    "            MetadataDTO(name=\"Chitchat\", value=\"end\"),\n",
    "        ]\n",
    "    )\n",
    "\n",
    "    qna4 = QnADTO(\n",
    "        answer=\"Hello, please select from the list of questions or enter a new question to continue.\",\n",
    "        questions=[\n",
    "            \"hello\",\n",
    "            \"hi\",\n",
    "            \"start\"\n",
    "        ],\n",
    "        metadata=[\n",
    "            MetadataDTO(name=\"Category\", value=\"Chitchat\"),\n",
    "            MetadataDTO(name=\"Chitchat\", value=\"begin\"),\n",
    "        ],\n",
    "        context = QnADTOContext(\n",
    "\n",
    "            is_context_only = False,\n",
    "            prompts = [\n",
    "\n",
    "                PromptDTO(\n",
    "                    display_order =1,\n",
    "                    display_text= \"Use REST\",\n",
    "                    qna_id=1\n",
    "\n",
    "                ),\n",
    "                PromptDTO(\n",
    "                    display_order =2,\n",
    "                    display_text= \"Use .NET NuGet package\",\n",
    "                    qna_id=2\n",
    "                ),\n",
    "            ]\n",
    "        )\n",
    "\n",
    "    )\n",
    "\n",
    "    urls = [\n",
    "        \"https://docs.microsoft.com/azure/cognitive-services/QnAMaker/troubleshooting\"\n",
    "    ]\n",
    "\n",
    "\n",
    "\n",
    "    update_kb_operation_dto = UpdateKbOperationDTO(\n",
    "        add=UpdateKbOperationDTOAdd(\n",
    "            qna_list=[\n",
    "                qna3,\n",
    "                qna4\n",
    "            ],\n",
    "            urls = urls,\n",
    "            files=[]\n",
    "        ),\n",
    "        delete=None,\n",
    "        update=None\n",
    "    )\n",
    "    update_op = client.knowledgebase.update(kb_id=kb_id, update_kb=update_kb_operation_dto)\n",
    "    _monitor_operation(client=client, operation=update_op)\n",
    "    print(\"Updated knowledge base.\")"
   ]
  },
  {
   "cell_type": "code",
   "execution_count": 15,
   "id": "a9400db6",
   "metadata": {},
   "outputs": [],
   "source": [
    "kb_id = 'dab96190-f39d-4cde-81d7-409db4611a27'"
   ]
  },
  {
   "cell_type": "code",
   "execution_count": 16,
   "id": "8b7a05a1",
   "metadata": {},
   "outputs": [
    {
     "name": "stdout",
     "output_type": "stream",
     "text": [
      "Updating knowledge base...\n",
      "Waiting for operation: e8bfbf1f-93b6-4adb-9bcd-d19271cd887f to complete.\n",
      "Waiting for operation: e8bfbf1f-93b6-4adb-9bcd-d19271cd887f to complete.\n",
      "Updated knowledge base.\n"
     ]
    }
   ],
   "source": [
    "update_kb(client, kb_id)"
   ]
  },
  {
   "cell_type": "markdown",
   "id": "3aaed19b",
   "metadata": {},
   "source": [
    "# Télécharger une base de connaissances\n"
   ]
  },
  {
   "cell_type": "code",
   "execution_count": 25,
   "id": "07fcbee5",
   "metadata": {},
   "outputs": [],
   "source": [
    "def download_kb(client, kb_id):\n",
    "    print(\"Downloading knowledge base...\")\n",
    "    kb_data = client.knowledgebase.download(kb_id=kb_id, environment=\"Prod\")\n",
    "    print(\"Downloaded knowledge base. It has {} QnAs.\".format(len(kb_data.qna_documents)))"
   ]
  },
  {
   "cell_type": "code",
   "execution_count": 26,
   "id": "89971003",
   "metadata": {},
   "outputs": [
    {
     "name": "stdout",
     "output_type": "stream",
     "text": [
      "Downloading knowledge base...\n",
      "Downloaded knowledge base. It has 34 QnAs.\n"
     ]
    }
   ],
   "source": [
    "download_kb(client, kb_id)"
   ]
  },
  {
   "cell_type": "markdown",
   "id": "e157001d",
   "metadata": {},
   "source": [
    "# Publier une base de connaissances\n"
   ]
  },
  {
   "cell_type": "code",
   "execution_count": 6,
   "id": "4ca69f83",
   "metadata": {},
   "outputs": [],
   "source": [
    "def publish_kb(client, kb_id):\n",
    "    print(\"Publishing knowledge base...\")\n",
    "    client.knowledgebase.publish(kb_id=kb_id)\n",
    "    print(\"Published knowledge base.\")"
   ]
  },
  {
   "cell_type": "code",
   "execution_count": 19,
   "id": "e2b1d36c",
   "metadata": {},
   "outputs": [
    {
     "name": "stdout",
     "output_type": "stream",
     "text": [
      "Publishing knowledge base...\n",
      "Published knowledge base.\n"
     ]
    }
   ],
   "source": [
    "publish_kb(client, kb_id)"
   ]
  },
  {
   "cell_type": "markdown",
   "id": "07372d1a",
   "metadata": {},
   "source": [
    "# Interroger une base de connaissances\n",
    "Obtenir la clé d'exécution de la requête"
   ]
  },
  {
   "cell_type": "code",
   "execution_count": 7,
   "id": "a65b99ea",
   "metadata": {},
   "outputs": [],
   "source": [
    "def getEndpointKeys_kb(client):\n",
    "    print(\"Getting runtime endpoint keys...\")\n",
    "    keys = client.endpoint_keys.get_keys()\n",
    "    print(\"Primary runtime endpoint key: {}.\".format(keys.primary_endpoint_key))\n",
    "\n",
    "    return keys.primary_endpoint_key"
   ]
  },
  {
   "cell_type": "code",
   "execution_count": 20,
   "id": "ecb4134b",
   "metadata": {},
   "outputs": [
    {
     "name": "stdout",
     "output_type": "stream",
     "text": [
      "Getting runtime endpoint keys...\n",
      "Primary runtime endpoint key: a9399771-d190-42c3-a598-bc1aeaa405ea.\n"
     ]
    }
   ],
   "source": [
    "queryRuntimeKey = getEndpointKeys_kb(client)"
   ]
  },
  {
   "cell_type": "markdown",
   "id": "f29a96f6",
   "metadata": {},
   "source": [
    "Authentifier le runtime pour générer une réponse\n"
   ]
  },
  {
   "cell_type": "code",
   "execution_count": 21,
   "id": "282d3160",
   "metadata": {},
   "outputs": [],
   "source": [
    "runtimeClient = QnAMakerRuntimeClient(runtime_endpoint=runtime_endpoint, \n",
    "                                      credentials=CognitiveServicesCredentials(queryRuntimeKey))"
   ]
  },
  {
   "cell_type": "code",
   "execution_count": 24,
   "id": "699a038f",
   "metadata": {},
   "outputs": [
    {
     "data": {
      "text/plain": [
       "<module 'azure.cognitiveservices.knowledge.qnamaker.runtime.models' from '/Library/Frameworks/Python.framework/Versions/3.8/lib/python3.8/site-packages/azure/cognitiveservices/knowledge/qnamaker/runtime/models/__init__.py'>"
      ]
     },
     "execution_count": 24,
     "metadata": {},
     "output_type": "execute_result"
    }
   ],
   "source": [
    "runtimeClient.runtime.generate_answer()"
   ]
  },
  {
   "cell_type": "markdown",
   "id": "2adbda30",
   "metadata": {},
   "source": [
    "Supprimer une base de connaissances\n"
   ]
  },
  {
   "cell_type": "code",
   "execution_count": null,
   "id": "7f58dcde",
   "metadata": {},
   "outputs": [],
   "source": [
    "def delete_kb(client, kb_id):\n",
    "    print(\"Deleting knowledge base...\")\n",
    "    client.knowledgebase.delete(kb_id=kb_id)\n",
    "    print(\"Deleted knowledge base.\")"
   ]
  }
 ],
 "metadata": {
  "kernelspec": {
   "display_name": "p10",
   "language": "python",
   "name": "p10"
  },
  "language_info": {
   "codemirror_mode": {
    "name": "ipython",
    "version": 3
   },
   "file_extension": ".py",
   "mimetype": "text/x-python",
   "name": "python",
   "nbconvert_exporter": "python",
   "pygments_lexer": "ipython3",
   "version": "3.8.2"
  }
 },
 "nbformat": 4,
 "nbformat_minor": 5
}
