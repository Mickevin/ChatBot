{
 "cells": [
  {
   "cell_type": "markdown",
   "id": "6d1ca0ac",
   "metadata": {},
   "source": [
    "# Connexion Luis"
   ]
  },
  {
   "cell_type": "code",
   "execution_count": 1,
   "id": "435d89ec",
   "metadata": {},
   "outputs": [],
   "source": [
    "from azure.cognitiveservices.language.luis.authoring import LUISAuthoringClient\n",
    "from azure.cognitiveservices.language.luis.authoring.models import ApplicationCreateObject\n",
    "from azure.cognitiveservices.language.luis.runtime import LUISRuntimeClient\n",
    "from msrest.authentication import CognitiveServicesCredentials\n",
    "from functools import reduce\n",
    "\n",
    "import json, time, uuid\n",
    "import os\n",
    "import time\n",
    "\n",
    "from azure.cognitiveservices.knowledge.qnamaker.authoring import QnAMakerClient\n",
    "from azure.cognitiveservices.knowledge.qnamaker.runtime import QnAMakerRuntimeClient\n",
    "from azure.cognitiveservices.knowledge.qnamaker.authoring.models import QnADTO, MetadataDTO, CreateKbDTO, OperationStateType, UpdateKbOperationDTO, UpdateKbOperationDTOAdd, EndpointKeysDTO, QnADTOContext, PromptDTO\n",
    "from azure.cognitiveservices.knowledge.qnamaker.runtime.models import QueryDTO\n",
    "from msrest.authentication import CognitiveServicesCredentials\n",
    "\n",
    "\n",
    "class My_bot():\n",
    "    def __init__(self, api_id = '9b0fd8a7-81ed-402c-a2a0-b534ee7d78cf', \n",
    "                 kb_id = '746a8b49-3d96-492b-9ba7-b5cb30de7309'):\n",
    "        \n",
    "        self.code = 4\n",
    "        \n",
    "        \n",
    "        def getEndpointKeys_kb(client):\n",
    "            print(\"Getting runtime endpoint keys...\")\n",
    "            keys = client.endpoint_keys.get_keys()\n",
    "            print(\"Primary runtime endpoint key: {}.\".format(keys.primary_endpoint_key))\n",
    "\n",
    "            return keys.primary_endpoint_key\n",
    "        \n",
    "        self.api_id = api_id\n",
    "        self.kb_id = kb_id\n",
    "        \n",
    "        self.authoringKey = '123007a9fbfb4ec2bd2e4cd7c88c37fa'\n",
    "        self.authoringEndpoint = 'https://languep10-authoring.cognitiveservices.azure.com/'\n",
    "        self.predictionKey = '75800c252f4246e9b665a9015f046091'\n",
    "        self.predictionEndpoint = 'https://langue-p10.cognitiveservices.azure.com/'\n",
    "        \n",
    "        \n",
    "        self.subscription_key = 'cbb4bcaa0a334e02a1261cf18aa1ad18'\n",
    "        self.authoring_endpoint = 'https://qna0.cognitiveservices.azure.com/'\n",
    "        self.runtime_endpoint = 'https://qna0.azurewebsites.net'\n",
    "        self.clientKB = QnAMakerClient(endpoint=self.authoring_endpoint, \n",
    "                                       credentials=CognitiveServicesCredentials(self.subscription_key))\n",
    "         \n",
    "        self.queryRuntimeKey = getEndpointKeys_kb(self.clientKB)\n",
    "        self.runtimeClient = QnAMakerRuntimeClient(runtime_endpoint=self.runtime_endpoint, \n",
    "                                      credentials=CognitiveServicesCredentials(self.queryRuntimeKey))\n",
    "        \n",
    "        # We use a UUID to avoid name collisions.\n",
    "        self.versionId = \"0.1\"\n",
    "        self.intentName = \"FlyMe.Booking\"\n",
    "        \n",
    "        self.client = LUISAuthoringClient(self.authoringEndpoint, \n",
    "                                          CognitiveServicesCredentials(self.authoringKey))\n",
    "        \n",
    "        self.runtimeCredentials = CognitiveServicesCredentials(self.predictionKey)\n",
    "        self.clientRuntime = LUISRuntimeClient(endpoint=self.predictionEndpoint, \n",
    "                                               credentials=self.runtimeCredentials)\n",
    "\n",
    "        \n",
    "        self.data = {\n",
    "            'or_city': False, \n",
    "              'dst_city': False,\n",
    "              'str_date': False,\n",
    "              'end_date': False,\n",
    "              'budget': False\n",
    "             }\n",
    "        \n",
    "        self.trad = {\n",
    "            'or_city': \"origin's city\", \n",
    "              'dst_city': \"destination's city\",\n",
    "              'str_date': \"day's start\",\n",
    "              'end_date': \"end's date\",\n",
    "              'budget': \"your budget\"\n",
    "             }\n",
    "\n",
    "\n",
    "    def prediction(self, text):\n",
    "        \n",
    "        def check_reponse(rep):\n",
    "    \n",
    "            for k in rep.keys():\n",
    "                self.data[k] = rep[k]\n",
    "\n",
    "            data_lost = []\n",
    "            for k in self.data.keys():\n",
    "                if self.data[k] == False:\n",
    "                    data_lost.append(k)\n",
    "\n",
    "            self.code = len(data_lost)\n",
    "            self.data_lost = data_lost\n",
    "            \n",
    "            return self.get_rep()\n",
    "\n",
    "        # Production == slot name\n",
    "        self.predictionRequest = { \"query\" : text}\n",
    "\n",
    "        predictionResponse = self.clientRuntime.prediction.get_slot_prediction(self.api_id, \n",
    "                                                                                    \"Production\", \n",
    "                                                                                    self.predictionRequest, \n",
    "                                                                                    show_all_intents=True)\n",
    "        rep = predictionResponse.prediction.entities\n",
    "        return check_reponse(rep)\n",
    "    \n",
    "    \n",
    "    def generate_answer(self, text):\n",
    "        print (\"Querying knowledge base...\")\n",
    "\n",
    "        authHeaderValue = \"EndpointKey \" + self.queryRuntimeKey\n",
    "\n",
    "        listSearchResults = self.runtimeClient.runtime.generate_answer(self.kb_id, \n",
    "                                                           QueryDTO(question = text), \n",
    "                                                           dict(Authorization=authHeaderValue))\n",
    "        return listSearchResults.answers[0].answer\n",
    "    \n",
    "    \n",
    "    def get_rep(self):\n",
    "        code = self.code\n",
    "        if code == 0:\n",
    "            return bot.generate_answer('0').format(self.data['or_city'][0],\n",
    "                                                 self.data['dst_city'][0],\n",
    "                                                 self.data['str_date'][0],\n",
    "                                                 self.data['end_date'][0],\n",
    "                                                 self.data['budget'][0])\n",
    "        elif code == 1:\n",
    "            return bot.generate_answer('1').format(self.trad[self.data_lost[0]])\n",
    "        elif code == 2:\n",
    "            return bot.generate_answer('2').format(self.trad[self.data_lost[0]], self.trad[self.data_lost[0]])\n",
    "        elif code == 3:\n",
    "            return bot.generate_answer('3')\n",
    "        elif code == 4:\n",
    "            return bot.generate_answer('4')\n",
    "        elif code == 5:\n",
    "            return bot.generate_answer('4')"
   ]
  },
  {
   "cell_type": "code",
   "execution_count": 2,
   "id": "357d7101",
   "metadata": {},
   "outputs": [
    {
     "name": "stdout",
     "output_type": "stream",
     "text": [
      "Getting runtime endpoint keys...\n",
      "Primary runtime endpoint key: a9399771-d190-42c3-a598-bc1aeaa405ea.\n"
     ]
    }
   ],
   "source": [
    "bot = My_bot('9b0fd8a7-81ed-402c-a2a0-b534ee7d78cf', kb_id = '746a8b49-3d96-492b-9ba7-b5cb30de7309')"
   ]
  },
  {
   "cell_type": "code",
   "execution_count": 3,
   "id": "c28dd9ac",
   "metadata": {},
   "outputs": [
    {
     "name": "stdout",
     "output_type": "stream",
     "text": [
      "Querying knowledge base...\n"
     ]
    },
    {
     "data": {
      "text/plain": [
       "'Hello,\\n\\nIn order to be able to record the information of your trip, please provide us with the following information:\\n\\n*   your departure city\\n*   your city of residence,\\n*   departure date,\\n*   the date of return,\\n*   your budget.'"
      ]
     },
     "execution_count": 3,
     "metadata": {},
     "output_type": "execute_result"
    }
   ],
   "source": [
    "bot.prediction(\"I'd like to book a trip to Atlantis from Caprica on Saturday, August 13, 2016 for 8 adults. I have a tight budget of 1700.\")"
   ]
  },
  {
   "cell_type": "code",
   "execution_count": 129,
   "id": "95387490",
   "metadata": {},
   "outputs": [
    {
     "data": {
      "text/plain": [
       "5"
      ]
     },
     "execution_count": 129,
     "metadata": {},
     "output_type": "execute_result"
    }
   ],
   "source": [
    "bot.code"
   ]
  },
  {
   "cell_type": "code",
   "execution_count": 118,
   "id": "263b744d",
   "metadata": {},
   "outputs": [],
   "source": [
    "bot.data['end_date'] = ['april']"
   ]
  },
  {
   "cell_type": "code",
   "execution_count": 117,
   "id": "2c791c20",
   "metadata": {},
   "outputs": [
    {
     "data": {
      "text/plain": [
       "{'or_city': ['Caprica'],\n",
       " 'dst_city': ['Atlantis'],\n",
       " 'str_date': 'June',\n",
       " 'end_date': 'april',\n",
       " 'budget': ['1700.']}"
      ]
     },
     "execution_count": 117,
     "metadata": {},
     "output_type": "execute_result"
    }
   ],
   "source": [
    "bot.data"
   ]
  },
  {
   "cell_type": "code",
   "execution_count": 52,
   "id": "2d7c605c",
   "metadata": {},
   "outputs": [],
   "source": [
    "u = 'fis sd{} sf'"
   ]
  },
  {
   "cell_type": "code",
   "execution_count": 53,
   "id": "0ccf3ca6",
   "metadata": {},
   "outputs": [
    {
     "data": {
      "text/plain": [
       "'fis sd 8 sf'"
      ]
     },
     "execution_count": 53,
     "metadata": {},
     "output_type": "execute_result"
    }
   ],
   "source": [
    "u.format(' 8')"
   ]
  },
  {
   "cell_type": "code",
   "execution_count": 57,
   "id": "ec07760a",
   "metadata": {},
   "outputs": [
    {
     "data": {
      "text/plain": [
       "['str_date', 'end_date', 'budget']"
      ]
     },
     "execution_count": 57,
     "metadata": {},
     "output_type": "execute_result"
    }
   ],
   "source": [
    "bot.data_lost"
   ]
  },
  {
   "cell_type": "code",
   "execution_count": null,
   "id": "68568469",
   "metadata": {},
   "outputs": [],
   "source": []
  },
  {
   "cell_type": "code",
   "execution_count": 61,
   "id": "2ab6bb34",
   "metadata": {},
   "outputs": [
    {
     "name": "stdout",
     "output_type": "stream",
     "text": [
      "Querying knowledge base...\n",
      "Answer ID: 98.\n",
      "Answer: On a entendu votre demande veuillez nous indiquer la {} merci.\n",
      "Answer score: 100.0.\n"
     ]
    },
    {
     "data": {
      "text/plain": [
       "'On a entendu votre demande veuillez nous indiquer la  8 merci'"
      ]
     },
     "execution_count": 61,
     "metadata": {},
     "output_type": "execute_result"
    }
   ],
   "source": [
    "bot.generate_answer('1')[0].answer.format(' 8')"
   ]
  },
  {
   "cell_type": "code",
   "execution_count": null,
   "id": "d80c8f73",
   "metadata": {},
   "outputs": [],
   "source": []
  },
  {
   "cell_type": "code",
   "execution_count": 86,
   "id": "d97e04bd",
   "metadata": {},
   "outputs": [
    {
     "data": {
      "text/plain": [
       "[['0',\n",
       "  '\\nYour information has been taken into account.\\nYou have chosen a departure from {} to {} from {} to {} for a budget of {}.\\n'],\n",
       " ['1',\n",
       "  'We have taken your information into account, please complete it with your {}\\n'],\n",
       " ['2', '\\nPlease also indicate your {} and your {}'],\n",
       " ['3', \"Votre demande n'a pas été compris.\\n\"],\n",
       " ['4',\n",
       "  'Hello,\\n\\nIn order to be able to record the information of your trip, please provide us with the following information:\\n\\n- your departure city\\n- your city of residence,\\n- departure date,\\n- the date of return,\\n-your budget.\\n']]"
      ]
     },
     "execution_count": 86,
     "metadata": {},
     "output_type": "execute_result"
    }
   ],
   "source": [
    "[[\"0\", '''\n",
    "Your information has been taken into account.\n",
    "You have chosen a departure from {} to {} from {} to {} for a budget of {}.\n",
    "'''],\n",
    "[\"1\", '''We have taken your information into account, please complete it with your {}\n",
    "'''],\n",
    "[\"2\", '''\n",
    "Please also indicate your {} and your {}'''],\n",
    "[\"3\", '''Votre demande n'a pas été compris.\n",
    "'''],\n",
    "['4', '''Hello,\n",
    "\n",
    "In order to be able to record the information of your trip, please provide us with the following information:\n",
    "\n",
    "- your departure city\n",
    "- your city of residence,\n",
    "- departure date,\n",
    "- the date of return,\n",
    "-your budget.\n",
    "''']]"
   ]
  },
  {
   "cell_type": "code",
   "execution_count": 90,
   "id": "a44bebbb",
   "metadata": {},
   "outputs": [
    {
     "data": {
      "text/plain": [
       "'test {}, {}'"
      ]
     },
     "execution_count": 90,
     "metadata": {},
     "output_type": "execute_result"
    }
   ],
   "source": [
    "'test {}, {}'"
   ]
  },
  {
   "cell_type": "code",
   "execution_count": null,
   "id": "3b3c49d0",
   "metadata": {},
   "outputs": [],
   "source": []
  }
 ],
 "metadata": {
  "kernelspec": {
   "display_name": "p10",
   "language": "python",
   "name": "p10"
  },
  "language_info": {
   "codemirror_mode": {
    "name": "ipython",
    "version": 3
   },
   "file_extension": ".py",
   "mimetype": "text/x-python",
   "name": "python",
   "nbconvert_exporter": "python",
   "pygments_lexer": "ipython3",
   "version": "3.8.2"
  }
 },
 "nbformat": 4,
 "nbformat_minor": 5
}
