{
 "cells": [
  {
   "cell_type": "code",
   "execution_count": 2,
   "id": "3f746cef",
   "metadata": {},
   "outputs": [
    {
     "name": "stdout",
     "output_type": "stream",
     "text": [
      " * Serving Flask app '__main__' (lazy loading)\n",
      " * Environment: production\n",
      "\u001b[31m   WARNING: This is a development server. Do not use it in a production deployment.\u001b[0m\n",
      "\u001b[2m   Use a production WSGI server instead.\u001b[0m\n",
      " * Debug mode: off\n"
     ]
    },
    {
     "name": "stderr",
     "output_type": "stream",
     "text": [
      " * Running on http://localhost:3978 (Press CTRL+C to quit)\n",
      "[2022-04-29 18:25:40,322] ERROR in app: Exception on /api/messages [POST]\n",
      "Traceback (most recent call last):\n",
      "  File \"/Library/Frameworks/Python.framework/Versions/3.8/lib/python3.8/site-packages/flask/app.py\", line 2077, in wsgi_app\n",
      "    response = self.full_dispatch_request()\n",
      "  File \"/Library/Frameworks/Python.framework/Versions/3.8/lib/python3.8/site-packages/flask/app.py\", line 1525, in full_dispatch_request\n",
      "    rv = self.handle_user_exception(e)\n",
      "  File \"/Library/Frameworks/Python.framework/Versions/3.8/lib/python3.8/site-packages/flask/app.py\", line 1523, in full_dispatch_request\n",
      "    rv = self.dispatch_request()\n",
      "  File \"/Library/Frameworks/Python.framework/Versions/3.8/lib/python3.8/site-packages/flask/app.py\", line 1509, in dispatch_request\n",
      "    return self.ensure_sync(self.view_functions[rule.endpoint])(**req.view_args)\n",
      "  File \"/var/folders/pd/d9xkkvws5r5f_x34lthx34ph0000gn/T/ipykernel_7994/3663819538.py\", line 31, in messages\n",
      "    loop.run_until_complete(task)\n",
      "  File \"/Library/Frameworks/Python.framework/Versions/3.8/lib/python3.8/asyncio/base_events.py\", line 592, in run_until_complete\n",
      "    self._check_running()\n",
      "  File \"/Library/Frameworks/Python.framework/Versions/3.8/lib/python3.8/asyncio/base_events.py\", line 552, in _check_running\n",
      "    raise RuntimeError('This event loop is already running')\n",
      "RuntimeError: This event loop is already running\n",
      "127.0.0.1 - - [29/Apr/2022 18:25:40] \"\u001b[35m\u001b[1mPOST /api/messages HTTP/1.1\u001b[0m\" 500 -\n"
     ]
    }
   ],
   "source": [
    "import json\n",
    "from flask import Flask,request,Response\n",
    "from botbuilder.schema import Activity\n",
    "from botbuilder.core import BotFrameworkAdapter,BotFrameworkAdapterSettings\n",
    "import asyncio\n",
    "\n",
    "from echobot import EchoBot\n",
    "\n",
    "app = Flask(__name__)\n",
    "loop = asyncio.get_event_loop()\n",
    "\n",
    "botadaptersettings = BotFrameworkAdapterSettings(\"\",\"\")\n",
    "botadapter = BotFrameworkAdapter(botadaptersettings)\n",
    "\n",
    "ebot = EchoBot()\n",
    "\n",
    "@app.route(\"/api/messages\",methods=[\"POST\"])\n",
    "def messages():\n",
    "    if \"application/json\" in request.headers[\"content-type\"]:\n",
    "        jsonmessage = request.json\n",
    "    else:\n",
    "        return Response(status=415)\n",
    "\n",
    "    activity = Activity().deserialize(jsonmessage)\n",
    "\n",
    "\n",
    "    async def turn_call(turn_context):\n",
    "        await ebot.on_turn(turn_context)\n",
    "        \n",
    "    task = loop.create_task(botadapter.process_activity(activity,\"\",turn_call))\n",
    "    loop.run_until_complete(task)\n",
    "\n",
    "if __name__ == '__main__':\n",
    "    app.run('localhost',3978)"
   ]
  },
  {
   "cell_type": "code",
   "execution_count": 12,
   "id": "ffb0f8b7",
   "metadata": {},
   "outputs": [],
   "source": [
    "activity = Activity().deserialize({'text':'test'})"
   ]
  },
  {
   "cell_type": "code",
   "execution_count": 3,
   "id": "7acd28e9",
   "metadata": {},
   "outputs": [],
   "source": [
    "from botbuilder.core import TurnContext"
   ]
  },
  {
   "cell_type": "code",
   "execution_count": 5,
   "id": "27a18ceb",
   "metadata": {},
   "outputs": [
    {
     "data": {
      "text/plain": [
       "<property at 0x7f86797733b0>"
      ]
     },
     "execution_count": 5,
     "metadata": {},
     "output_type": "execute_result"
    }
   ],
   "source": [
    "TurnContext.activity."
   ]
  },
  {
   "cell_type": "code",
   "execution_count": 17,
   "id": "8f7dc7bb",
   "metadata": {},
   "outputs": [],
   "source": [
    "turn_context:TurnContext"
   ]
  },
  {
   "cell_type": "code",
   "execution_count": 15,
   "id": "ee8c5204",
   "metadata": {},
   "outputs": [
    {
     "ename": "NameError",
     "evalue": "name 'turn_context' is not defined",
     "output_type": "error",
     "traceback": [
      "\u001b[0;31m---------------------------------------------------------------------------\u001b[0m",
      "\u001b[0;31mNameError\u001b[0m                                 Traceback (most recent call last)",
      "Input \u001b[0;32mIn [15]\u001b[0m, in \u001b[0;36m<cell line: 1>\u001b[0;34m()\u001b[0m\n\u001b[0;32m----> 1\u001b[0m \u001b[43mturn_context\u001b[49m\n",
      "\u001b[0;31mNameError\u001b[0m: name 'turn_context' is not defined"
     ]
    }
   ],
   "source": []
  },
  {
   "cell_type": "code",
   "execution_count": 1,
   "id": "ec5edd9b",
   "metadata": {},
   "outputs": [
    {
     "name": "stdout",
     "output_type": "stream",
     "text": [
      " * Serving Flask app '__main__' (lazy loading)\n",
      " * Environment: production\n",
      "\u001b[31m   WARNING: This is a development server. Do not use it in a production deployment.\u001b[0m\n",
      "\u001b[2m   Use a production WSGI server instead.\u001b[0m\n",
      " * Debug mode: off\n"
     ]
    },
    {
     "name": "stderr",
     "output_type": "stream",
     "text": [
      " * Running on http://localhost:3978 (Press CTRL+C to quit)\n",
      "/var/folders/pd/d9xkkvws5r5f_x34lthx34ph0000gn/T/ipykernel_7994/2583688755.py:30: RuntimeWarning: coroutine 'BotFrameworkAdapter.process_activity' was never awaited\n",
      "  botadapter.process_activity(activity,\"\",turn_call)\n",
      "RuntimeWarning: Enable tracemalloc to get the object allocation traceback\n",
      "/var/folders/pd/d9xkkvws5r5f_x34lthx34ph0000gn/T/ipykernel_7994/2583688755.py:28: RuntimeWarning: coroutine 'EchoBot.on_turn' was never awaited\n",
      "  ebot.on_turn(turn_context)\n",
      "RuntimeWarning: Enable tracemalloc to get the object allocation traceback\n",
      "/var/folders/pd/d9xkkvws5r5f_x34lthx34ph0000gn/T/ipykernel_7994/2583688755.py:31: RuntimeWarning: coroutine 'BotFrameworkAdapter.process_activity' was never awaited\n",
      "  turn_call(botadapter.process_activity(activity,\"\",turn_call))\n",
      "RuntimeWarning: Enable tracemalloc to get the object allocation traceback\n",
      "[2022-04-29 18:24:58,190] ERROR in app: Exception on /api/messages [POST]\n",
      "Traceback (most recent call last):\n",
      "  File \"/Library/Frameworks/Python.framework/Versions/3.8/lib/python3.8/site-packages/flask/app.py\", line 2077, in wsgi_app\n",
      "    response = self.full_dispatch_request()\n",
      "  File \"/Library/Frameworks/Python.framework/Versions/3.8/lib/python3.8/site-packages/flask/app.py\", line 1526, in full_dispatch_request\n",
      "    return self.finalize_request(rv)\n",
      "  File \"/Library/Frameworks/Python.framework/Versions/3.8/lib/python3.8/site-packages/flask/app.py\", line 1545, in finalize_request\n",
      "    response = self.make_response(rv)\n",
      "  File \"/Library/Frameworks/Python.framework/Versions/3.8/lib/python3.8/site-packages/flask/app.py\", line 1701, in make_response\n",
      "    raise TypeError(\n",
      "TypeError: The view function for 'messages' did not return a valid response. The function either returned None or ended without a return statement.\n",
      "127.0.0.1 - - [29/Apr/2022 18:24:58] \"\u001b[35m\u001b[1mPOST /api/messages HTTP/1.1\u001b[0m\" 500 -\n",
      "[2022-04-29 18:25:04,383] ERROR in app: Exception on /api/messages [POST]\n",
      "Traceback (most recent call last):\n",
      "  File \"/Library/Frameworks/Python.framework/Versions/3.8/lib/python3.8/site-packages/flask/app.py\", line 2077, in wsgi_app\n",
      "    response = self.full_dispatch_request()\n",
      "  File \"/Library/Frameworks/Python.framework/Versions/3.8/lib/python3.8/site-packages/flask/app.py\", line 1526, in full_dispatch_request\n",
      "    return self.finalize_request(rv)\n",
      "  File \"/Library/Frameworks/Python.framework/Versions/3.8/lib/python3.8/site-packages/flask/app.py\", line 1545, in finalize_request\n",
      "    response = self.make_response(rv)\n",
      "  File \"/Library/Frameworks/Python.framework/Versions/3.8/lib/python3.8/site-packages/flask/app.py\", line 1701, in make_response\n",
      "    raise TypeError(\n",
      "TypeError: The view function for 'messages' did not return a valid response. The function either returned None or ended without a return statement.\n",
      "127.0.0.1 - - [29/Apr/2022 18:25:04] \"\u001b[35m\u001b[1mPOST /api/messages HTTP/1.1\u001b[0m\" 500 -\n"
     ]
    }
   ],
   "source": [
    "import json\n",
    "from flask import Flask,request,Response\n",
    "from botbuilder.schema import Activity\n",
    "from botbuilder.core import BotFrameworkAdapter,BotFrameworkAdapterSettings\n",
    "import asyncio\n",
    "\n",
    "from echobot import EchoBot\n",
    "\n",
    "app = Flask(__name__)\n",
    "loop = asyncio.get_event_loop()\n",
    "\n",
    "botadaptersettings = BotFrameworkAdapterSettings(\"\",\"\")\n",
    "botadapter = BotFrameworkAdapter(botadaptersettings)\n",
    "\n",
    "ebot = EchoBot()\n",
    "\n",
    "@app.route(\"/api/messages\",methods=[\"POST\"])\n",
    "def messages():\n",
    "    if \"application/json\" in request.headers[\"content-type\"]:\n",
    "        jsonmessage = request.json\n",
    "    else:\n",
    "        return Response(status=415)\n",
    "\n",
    "    activity = Activity().deserialize(jsonmessage)\n",
    "\n",
    "\n",
    "    def turn_call(turn_context):\n",
    "        ebot.on_turn(turn_context)\n",
    "        \n",
    "    botadapter.process_activity(activity,\"\",turn_call)\n",
    "    turn_call(botadapter.process_activity(activity,\"\",turn_call))\n",
    "\n",
    "if __name__ == '__main__':\n",
    "    app.run('localhost',3978)"
   ]
  },
  {
   "cell_type": "code",
   "execution_count": null,
   "id": "a86379a7",
   "metadata": {},
   "outputs": [],
   "source": []
  }
 ],
 "metadata": {
  "kernelspec": {
   "display_name": "Python 3 (ipykernel)",
   "language": "python",
   "name": "python3"
  },
  "language_info": {
   "codemirror_mode": {
    "name": "ipython",
    "version": 3
   },
   "file_extension": ".py",
   "mimetype": "text/x-python",
   "name": "python",
   "nbconvert_exporter": "python",
   "pygments_lexer": "ipython3",
   "version": "3.8.2"
  }
 },
 "nbformat": 4,
 "nbformat_minor": 5
}
